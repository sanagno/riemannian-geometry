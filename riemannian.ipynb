{
 "cells": [
  {
   "cell_type": "markdown",
   "metadata": {},
   "source": [
    "## Create dataset"
   ]
  },
  {
   "cell_type": "markdown",
   "metadata": {},
   "source": [
    "We will explore a dataset cointaing for each country a series of values such as populaiton count and gdp collected from https://data.worldbank.org"
   ]
  },
  {
   "cell_type": "code",
   "execution_count": 14,
   "metadata": {},
   "outputs": [],
   "source": [
    "import pandas as pd\n",
    "import numpy as np\n",
    "import os"
   ]
  },
  {
   "cell_type": "code",
   "execution_count": 2,
   "metadata": {},
   "outputs": [],
   "source": [
    "# read the files containing the various datasets\n",
    "\n",
    "population = pd.read_csv('API_SP.POP.TOTL_DS2_en_csv_v2_247892.csv', skiprows=4)\n",
    "dept = pd.read_csv('API_FI.RES.TOTL.DT.ZS_DS2_en_csv_v2_256118.csv', skiprows=4)\n",
    "gdp = pd.read_csv('API_NY.GDP.MKTP.CD_DS2_en_csv_v2_247793.csv', skiprows=4)\n",
    "edu = pd.read_csv('API_SE.PRM.CMPT.ZS_DS2_en_csv_v2_249118.csv', skiprows=4)\n",
    "health_expenditure = pd.read_csv('API_SH.XPD.CHEX.PC.CD_DS2_en_csv_v2_252116.csv', skiprows=4)\n",
    "employment_to_pop_ratio = pd.read_csv('API_SL.EMP.TOTL.SP.ZS_DS2_en_csv_v2_256109.csv', skiprows=4)"
   ]
  },
  {
   "cell_type": "code",
   "execution_count": 3,
   "metadata": {},
   "outputs": [],
   "source": [
    "dfs = [population, gdp, health_expenditure, employment_to_pop_ratio]"
   ]
  },
  {
   "cell_type": "code",
   "execution_count": 4,
   "metadata": {},
   "outputs": [],
   "source": [
    "import math\n",
    "\n",
    "data = {}\n",
    "\n",
    "for row in range(dfs[0].shape[0]):    \n",
    "    data_for_country = []\n",
    "    \n",
    "    for year in range(1960, 2019):\n",
    "        \n",
    "        data_country_year = [year]\n",
    "        \n",
    "        for df in dfs:\n",
    "            data_country_year.append(df.iloc[row][str(year)])\n",
    "            \n",
    "        if not any([math.isnan(x) for x in data_country_year]):\n",
    "            data_for_country.append(data_country_year)\n",
    "    \n",
    "    if len(data_for_country) >= 5:\n",
    "        data[dfs[0].iloc[row]['Country Name']] = data_for_country"
   ]
  },
  {
   "cell_type": "code",
   "execution_count": 7,
   "metadata": {},
   "outputs": [],
   "source": [
    "maximum_length = np.max([len(v) for v in data.values()])\n",
    "\n",
    "number_of_features = len(next(iter(data.values()))[0])"
   ]
  },
  {
   "cell_type": "code",
   "execution_count": null,
   "metadata": {},
   "outputs": [],
   "source": []
  },
  {
   "cell_type": "code",
   "execution_count": 8,
   "metadata": {},
   "outputs": [],
   "source": [
    "countries = list()\n",
    "\n",
    "dataset = list()\n",
    "\n",
    "lengths = list()\n",
    "\n",
    "for k, v in data.items():\n",
    "    countries.append(k)\n",
    "    lengths.append(len(v))\n",
    "    # add a random value that does not worsen the scaler's performance\n",
    "    dataset.append(v + [next(iter(data.values()))[0] for _ in range(maximum_length - len(v))])\n",
    "    \n",
    "dataset = np.array(dataset)\n",
    "lengths = np.array(lengths)"
   ]
  },
  {
   "cell_type": "code",
   "execution_count": 9,
   "metadata": {},
   "outputs": [],
   "source": [
    "from sklearn.preprocessing import StandardScaler\n",
    "\n",
    "scaler = StandardScaler()\n",
    "dataset = scaler.fit_transform(dataset.reshape(-1, maximum_length * number_of_features))\n",
    "dataset = dataset.reshape([-1, maximum_length, number_of_features])"
   ]
  },
  {
   "cell_type": "code",
   "execution_count": 10,
   "metadata": {
    "scrolled": false
   },
   "outputs": [],
   "source": [
    "from sklearn.model_selection import train_test_split\n",
    "\n",
    "countries_train, countries_test, dataset_train, dataset_test, lengths_train, lengths_test = \\\n",
    "    train_test_split(countries, dataset, lengths, test_size=0.2, random_state=42)"
   ]
  },
  {
   "cell_type": "code",
   "execution_count": 64,
   "metadata": {},
   "outputs": [
    {
     "data": {
      "text/plain": [
       "(176, 17, 5)"
      ]
     },
     "execution_count": 64,
     "metadata": {},
     "output_type": "execute_result"
    }
   ],
   "source": [
    "dataset_train.shape"
   ]
  },
  {
   "cell_type": "markdown",
   "metadata": {},
   "source": [
    "dataset_train contains for each of the 176 countries a total of 5 values (including time) for 17 time points (padded for all countries at the length 17)"
   ]
  },
  {
   "cell_type": "markdown",
   "metadata": {},
   "source": [
    "## Create the model"
   ]
  },
  {
   "cell_type": "code",
   "execution_count": 11,
   "metadata": {
    "collapsed": true
   },
   "outputs": [
    {
     "name": "stderr",
     "output_type": "stream",
     "text": [
      "/home/sotiris/.local/lib/python3.7/site-packages/tensorflow/python/framework/dtypes.py:516: FutureWarning: Passing (type, 1) or '1type' as a synonym of type is deprecated; in a future version of numpy, it will be understood as (type, (1,)) / '(1,)type'.\n",
      "  _np_qint8 = np.dtype([(\"qint8\", np.int8, 1)])\n",
      "/home/sotiris/.local/lib/python3.7/site-packages/tensorflow/python/framework/dtypes.py:517: FutureWarning: Passing (type, 1) or '1type' as a synonym of type is deprecated; in a future version of numpy, it will be understood as (type, (1,)) / '(1,)type'.\n",
      "  _np_quint8 = np.dtype([(\"quint8\", np.uint8, 1)])\n",
      "/home/sotiris/.local/lib/python3.7/site-packages/tensorflow/python/framework/dtypes.py:518: FutureWarning: Passing (type, 1) or '1type' as a synonym of type is deprecated; in a future version of numpy, it will be understood as (type, (1,)) / '(1,)type'.\n",
      "  _np_qint16 = np.dtype([(\"qint16\", np.int16, 1)])\n",
      "/home/sotiris/.local/lib/python3.7/site-packages/tensorflow/python/framework/dtypes.py:519: FutureWarning: Passing (type, 1) or '1type' as a synonym of type is deprecated; in a future version of numpy, it will be understood as (type, (1,)) / '(1,)type'.\n",
      "  _np_quint16 = np.dtype([(\"quint16\", np.uint16, 1)])\n",
      "/home/sotiris/.local/lib/python3.7/site-packages/tensorflow/python/framework/dtypes.py:520: FutureWarning: Passing (type, 1) or '1type' as a synonym of type is deprecated; in a future version of numpy, it will be understood as (type, (1,)) / '(1,)type'.\n",
      "  _np_qint32 = np.dtype([(\"qint32\", np.int32, 1)])\n",
      "/home/sotiris/.local/lib/python3.7/site-packages/tensorflow/python/framework/dtypes.py:525: FutureWarning: Passing (type, 1) or '1type' as a synonym of type is deprecated; in a future version of numpy, it will be understood as (type, (1,)) / '(1,)type'.\n",
      "  np_resource = np.dtype([(\"resource\", np.ubyte, 1)])\n",
      "/home/sotiris/.local/lib/python3.7/site-packages/tensorboard/compat/tensorflow_stub/dtypes.py:541: FutureWarning: Passing (type, 1) or '1type' as a synonym of type is deprecated; in a future version of numpy, it will be understood as (type, (1,)) / '(1,)type'.\n",
      "  _np_qint8 = np.dtype([(\"qint8\", np.int8, 1)])\n",
      "/home/sotiris/.local/lib/python3.7/site-packages/tensorboard/compat/tensorflow_stub/dtypes.py:542: FutureWarning: Passing (type, 1) or '1type' as a synonym of type is deprecated; in a future version of numpy, it will be understood as (type, (1,)) / '(1,)type'.\n",
      "  _np_quint8 = np.dtype([(\"quint8\", np.uint8, 1)])\n",
      "/home/sotiris/.local/lib/python3.7/site-packages/tensorboard/compat/tensorflow_stub/dtypes.py:543: FutureWarning: Passing (type, 1) or '1type' as a synonym of type is deprecated; in a future version of numpy, it will be understood as (type, (1,)) / '(1,)type'.\n",
      "  _np_qint16 = np.dtype([(\"qint16\", np.int16, 1)])\n",
      "/home/sotiris/.local/lib/python3.7/site-packages/tensorboard/compat/tensorflow_stub/dtypes.py:544: FutureWarning: Passing (type, 1) or '1type' as a synonym of type is deprecated; in a future version of numpy, it will be understood as (type, (1,)) / '(1,)type'.\n",
      "  _np_quint16 = np.dtype([(\"quint16\", np.uint16, 1)])\n",
      "/home/sotiris/.local/lib/python3.7/site-packages/tensorboard/compat/tensorflow_stub/dtypes.py:545: FutureWarning: Passing (type, 1) or '1type' as a synonym of type is deprecated; in a future version of numpy, it will be understood as (type, (1,)) / '(1,)type'.\n",
      "  _np_qint32 = np.dtype([(\"qint32\", np.int32, 1)])\n",
      "/home/sotiris/.local/lib/python3.7/site-packages/tensorboard/compat/tensorflow_stub/dtypes.py:550: FutureWarning: Passing (type, 1) or '1type' as a synonym of type is deprecated; in a future version of numpy, it will be understood as (type, (1,)) / '(1,)type'.\n",
      "  np_resource = np.dtype([(\"resource\", np.ubyte, 1)])\n"
     ]
    }
   ],
   "source": [
    "import numpy as np\n",
    "import tensorflow as tf\n",
    "\n",
    "batch_size = 32\n",
    "hidden_size = 25\n",
    "\n",
    "# HARD CODED!\n",
    "latent_space_size = 3\n",
    "assert(latent_space_size == 3)"
   ]
  },
  {
   "cell_type": "code",
   "execution_count": 52,
   "metadata": {},
   "outputs": [],
   "source": [
    "def create_graph():\n",
    "    tf_lengths = tf.placeholder(dtype=tf.int32, shape=[None])\n",
    "    # 0 position of tf_inputs contains the time\n",
    "    tf_inputs = tf.placeholder(dtype=tf.float32, shape=[None, maximum_length, number_of_features])\n",
    "\n",
    "    cell = tf.nn.rnn_cell.GRUCell(hidden_size)\n",
    "\n",
    "    outputs, states = tf.nn.dynamic_rnn(cell=cell, dtype=tf.float32, sequence_length=tf_lengths, inputs=tf_inputs)\n",
    "\n",
    "    x = tf.layers.dense(states, (latent_space_size + 1) * 5, activation=tf.nn.relu)\n",
    "    tf_latent_space = tf.layers.dense(x, latent_space_size + 1)\n",
    "\n",
    "    inputs_per_time_step = tf.transpose(tf_inputs, [1, 0, 2])\n",
    "\n",
    "    def get_trajectory(input_):\n",
    "        temp = tf.map_fn(lambda x: [tf.math.exp(x[1][0]) * (x[0][0] - x[1][1]),\n",
    "                                    x[1][2], x[1][3]], \n",
    "                         (input_, tf_latent_space), \n",
    "                         dtype=[tf.float32, tf.float32, tf.float32])\n",
    "\n",
    "        return tf.transpose(temp, [1, 0])\n",
    "\n",
    "    trajectories = tf.map_fn(get_trajectory, inputs_per_time_step, dtype=[])\n",
    "    trajectories = tf.transpose(trajectories, [1, 0, 2])\n",
    "\n",
    "    trajectories = tf.reshape(trajectories, [-1, latent_space_size])\n",
    "\n",
    "    reconstruction = tf.layers.dense(trajectories, latent_space_size * 5, activation=tf.nn.relu)\n",
    "    reconstruction = tf.layers.dense(reconstruction, number_of_features)\n",
    "\n",
    "    reconstruction = tf.reshape(reconstruction, [-1, maximum_length, number_of_features])\n",
    "    \n",
    "    return tf_lengths, tf_inputs, reconstruction, tf_latent_space"
   ]
  },
  {
   "cell_type": "code",
   "execution_count": null,
   "metadata": {},
   "outputs": [],
   "source": []
  },
  {
   "cell_type": "markdown",
   "metadata": {},
   "source": [
    "### Train the model"
   ]
  },
  {
   "cell_type": "code",
   "execution_count": 67,
   "metadata": {},
   "outputs": [],
   "source": [
    "from sklearn.utils import shuffle\n",
    "\n",
    "lr = 3e-3\n",
    "n_epochs = 200\n",
    "log_path = \"saved_models\"\n",
    "decay_steps = (len(lengths_train) / batch_size) * 10\n",
    "decay = 0.95\n",
    "\n",
    "try: \n",
    "    os.rmdir(log_path) \n",
    "    print('Deleted existing log path folder')\n",
    "except OSError:\n",
    "    ;\n",
    "\n",
    "\n",
    "def get_batches(iterable, batch_size=8, do_shuffle=True):\n",
    "    if do_shuffle:\n",
    "        iterable = shuffle(iterable)\n",
    "\n",
    "    length = len(iterable)\n",
    "    for ndx in range(0, length, batch_size):\n",
    "        iterable_batch = iterable[ndx: min(ndx + batch_size, length)]\n",
    "        yield iterable_batch"
   ]
  },
  {
   "cell_type": "code",
   "execution_count": 68,
   "metadata": {},
   "outputs": [
    {
     "name": "stderr",
     "output_type": "stream",
     "text": [
      "/home/sotiris/.local/lib/python3.7/site-packages/tensorflow/python/ops/gradients_util.py:93: UserWarning: Converting sparse IndexedSlices to a dense Tensor of unknown shape. This may consume a large amount of memory.\n",
      "  \"Converting sparse IndexedSlices to a dense Tensor of unknown shape. \"\n",
      "/home/sotiris/.local/lib/python3.7/site-packages/tensorflow/python/ops/gradients_util.py:93: UserWarning: Converting sparse IndexedSlices to a dense Tensor of unknown shape. This may consume a large amount of memory.\n",
      "  \"Converting sparse IndexedSlices to a dense Tensor of unknown shape. \"\n"
     ]
    },
    {
     "name": "stdout",
     "output_type": "stream",
     "text": [
      "At epoch  10 training loss: 8.561 and test loss: 6.624\n",
      "At epoch  20 training loss: 7.318 and test loss: 5.497\n",
      "At epoch  30 training loss: 5.007 and test loss: 5.075\n",
      "At epoch  40 training loss: 5.408 and test loss: 4.949\n",
      "At epoch  50 training loss: 4.506 and test loss: 4.698\n",
      "At epoch  60 training loss: 4.498 and test loss: 4.642\n",
      "At epoch  70 training loss: 4.360 and test loss: 4.706\n",
      "At epoch  80 training loss: 4.066 and test loss: 4.512\n",
      "At epoch  90 training loss: 3.938 and test loss: 4.613\n",
      "At epoch 100 training loss: 3.941 and test loss: 4.644\n",
      "At epoch 110 training loss: 3.856 and test loss: 4.464\n",
      "At epoch 120 training loss: 3.794 and test loss: 4.628\n",
      "At epoch 130 training loss: 4.114 and test loss: 4.999\n",
      "At epoch 140 training loss: 3.770 and test loss: 4.570\n",
      "At epoch 150 training loss: 3.714 and test loss: 4.530\n",
      "At epoch 160 training loss: 3.702 and test loss: 4.678\n",
      "At epoch 170 training loss: 3.663 and test loss: 4.482\n",
      "At epoch 180 training loss: 3.784 and test loss: 4.716\n",
      "At epoch 190 training loss: 3.676 and test loss: 4.548\n",
      "At epoch 200 training loss: 3.690 and test loss: 4.505\n"
     ]
    }
   ],
   "source": [
    "with tf.Graph().as_default():\n",
    "    with tf.Session() as sess:\n",
    "        tf_lengths, tf_inputs, reconstruction, tf_latent_space = create_graph()\n",
    "        \n",
    "        # remove the time axis for the reconstruction error\n",
    "        error = tf.slice(tf_inputs - reconstruction, [0, 0, 1], [-1, -1, number_of_features - 1])\n",
    "        \n",
    "        # remove padded sequences from reconstruction error\n",
    "        mask = tf.sequence_mask(tf_lengths, maxlen=maximum_length)\n",
    "        mask = tf.expand_dims(mask, 2)\n",
    "        mask = tf.tile(mask, [1, 1, number_of_features - 1])\n",
    "        mask = tf.cast(mask, tf.float32)\n",
    "        error = error * mask\n",
    "        \n",
    "        tf_loss_error = tf.reduce_sum(tf.reduce_sum(tf.square(error), 2))\n",
    "        \n",
    "        # TODO how to correctly estimate mean and variance for eta and tau\n",
    "        etas = tf.gather(tf.transpose(tf_latent_space), 0)\n",
    "        mean, var = tf.nn.moments(etas, axes=0)\n",
    "        etas = tf.square((etas - mean)) / var\n",
    "\n",
    "        taus = tf.gather(tf.transpose(tf_latent_space), 1)\n",
    "        mean, var = tf.nn.moments(taus, axes=0)\n",
    "        taus = tf.square((taus - mean)) / var\n",
    "\n",
    "        betas = tf.gather(tf.transpose(tf_latent_space), [2,3])\n",
    "        betas = tf.square(betas)\n",
    "        \n",
    "        # this loss depends on the number of samples per batch\n",
    "        tf_loss_reg = tf.reduce_sum(etas) + tf.reduce_sum(taus) + tf.reduce_sum(betas)\n",
    "        \n",
    "        \n",
    "        # TODO make this a placeholder\n",
    "        sigma = 1\n",
    "        \n",
    "        tf_loss = tf_loss_error / sigma + tf_loss_reg\n",
    "        \n",
    "        global_step = tf.Variable(1, name='global_step', trainable=False)\n",
    "        \n",
    "        learning_rate = tf.Variable(lr, trainable=False, dtype=tf.float32, name=\"learning_rate\")\n",
    "        learning_rate = tf.train.exponential_decay(learning_rate, global_step, decay_steps, decay)\n",
    "        \n",
    "        # Gradients and update operation for training the model.\n",
    "        opt = tf.train.AdamOptimizer(learning_rate)\n",
    "        update_ops = tf.get_collection(tf.GraphKeys.UPDATE_OPS)\n",
    "\n",
    "        with tf.control_dependencies(update_ops):\n",
    "            # Update all the trainable parameters\n",
    "            train_step = opt.minimize(tf_loss, global_step=global_step)\n",
    "    \n",
    "        saver = tf.train.Saver(max_to_keep=1)\n",
    "\n",
    "        sess.run(tf.global_variables_initializer())\n",
    "        \n",
    "        for epoch in range(n_epochs):\n",
    "            total_loss_train = 0\n",
    "            for indices in get_batches(list(range(len(lengths_train))), batch_size=batch_size):\n",
    "                lens = lengths_train[indices]\n",
    "                data_batch = dataset_train[indices]\n",
    "                \n",
    "                _, loss, _ = sess.run([train_step, tf_loss, global_step],\n",
    "                                            feed_dict={tf_lengths: lens, tf_inputs: data_batch})\n",
    "                \n",
    "                num_samples = len(indices)\n",
    "                total_loss_train += loss\n",
    "                \n",
    "            total_loss_train /= len(lengths_train)\n",
    "\n",
    "            total_loss_test = 0\n",
    "            for indices in get_batches(list(range(len(lengths_test))), batch_size=batch_size):\n",
    "                lens = lengths_test[indices]\n",
    "                data_batch = dataset_test[indices]\n",
    "                \n",
    "                loss = sess.run(tf_loss, feed_dict={tf_lengths: lens, tf_inputs: data_batch})\n",
    "                \n",
    "                num_samples = len(indices)\n",
    "                total_loss_test += loss\n",
    "                \n",
    "            total_loss_test /= len(lengths_test)\n",
    "     \n",
    "            if (epoch + 1) % 10 == 0:\n",
    "                print('At epoch {0:3d} training loss: {1:.3f} and test loss: {2:.3f}' \\\n",
    "                      .format(epoch + 1, total_loss_train, total_loss_test))\n",
    "        \n",
    "        saver.save(sess, os.path.join(log_path, \"model\"))"
   ]
  },
  {
   "cell_type": "code",
   "execution_count": 69,
   "metadata": {},
   "outputs": [
    {
     "name": "stdout",
     "output_type": "stream",
     "text": [
      "INFO:tensorflow:Restoring parameters from saved_models/model\n"
     ]
    }
   ],
   "source": [
    "with tf.Graph().as_default():\n",
    "    with tf.Session() as sess:\n",
    "        tf_lengths, tf_inputs, reconstruction, _ = create_graph()\n",
    "        \n",
    "        saver = tf.train.Saver()\n",
    "        saver.restore(sess, tf.train.latest_checkpoint(log_path))\n",
    "        \n",
    "        samples = []\n",
    "        for indices in get_batches(list(range(len(lengths_test))), batch_size=batch_size):\n",
    "            lens = lengths_test[indices]\n",
    "            data_batch = dataset_test[indices]\n",
    "\n",
    "            recon = sess.run(reconstruction, feed_dict={tf_lengths: lens, tf_inputs: data_batch})\n",
    "\n",
    "            samples.append(recon)\n",
    "            \n",
    "samples = np.concatenate(samples, axis=0)"
   ]
  },
  {
   "cell_type": "code",
   "execution_count": 70,
   "metadata": {},
   "outputs": [],
   "source": [
    "original_data = scaler.inverse_transform(dataset_test.reshape(-1, maximum_length * number_of_features))\n",
    "original_data = original_data.reshape(-1, maximum_length, number_of_features)\n",
    "\n",
    "recon_data = scaler.inverse_transform(samples.reshape(-1, maximum_length * number_of_features))\n",
    "recon_data = recon_data.reshape(-1, maximum_length, number_of_features)"
   ]
  },
  {
   "cell_type": "code",
   "execution_count": 71,
   "metadata": {},
   "outputs": [],
   "source": [
    "test = original_data[:, :, 1:]\n",
    "recon_data = recon_data[:, :, 1:]"
   ]
  },
  {
   "cell_type": "code",
   "execution_count": 72,
   "metadata": {},
   "outputs": [
    {
     "name": "stdout",
     "output_type": "stream",
     "text": [
      "(44, 17, 4)\n",
      "(44, 17, 4)\n"
     ]
    }
   ],
   "source": [
    "print(test.shape)\n",
    "print(recon_data.shape)"
   ]
  },
  {
   "cell_type": "code",
   "execution_count": 75,
   "metadata": {},
   "outputs": [
    {
     "data": {
      "image/png": "[encoded data removed]",
      "text/plain": [
       "<Figure size 864x432 with 2 Axes>"
      ]
     },
     "metadata": {
      "needs_background": "light"
     },
     "output_type": "display_data"
    }
   ],
   "source": [
    "import matplotlib.pyplot as plt\n",
    "import numpy as np\n",
    "from pylab import rcParams\n",
    "%matplotlib inline\n",
    "\n",
    "\n",
    "rcParams['figure.figsize'] = 12, 6\n",
    "\n",
    "\n",
    "plt.subplot(121)\n",
    "\n",
    "indices = [32, 34, 14, 35, 30]\n",
    "test_i = 3\n",
    "\n",
    "for i in indices:\n",
    "    plt.plot(test[i, :lengths_test[i], test_i])\n",
    "    \n",
    "plt.subplot(122)\n",
    "\n",
    "for i in indices:\n",
    "    plt.plot(recon_data[i, :lengths_test[i], test_i])\n",
    "\n",
    "plt.show()"
   ]
  },
  {
   "cell_type": "markdown",
   "metadata": {},
   "source": [
    "For the above graph I included employment ratios only. Data is not well captured. Maybe it has something to do with the huge discrepancies in values for other features? (such as population between different countries)"
   ]
  }
 ],
 "metadata": {
  "kernelspec": {
   "display_name": "Python 3",
   "language": "python",
   "name": "python3"
  },
  "language_info": {
   "codemirror_mode": {
    "name": "ipython",
    "version": 3
   },
   "file_extension": ".py",
   "mimetype": "text/x-python",
   "name": "python",
   "nbconvert_exporter": "python",
   "pygments_lexer": "ipython3",
   "version": "3.7.4"
  }
 },
 "nbformat": 4,
 "nbformat_minor": 2
}
